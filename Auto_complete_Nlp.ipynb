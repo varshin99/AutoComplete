{
  "cells": [
    {
      "cell_type": "markdown",
      "metadata": {
        "id": "97PuzgWCPJGd"
      },
      "source": [
        "# Language Models: Auto-Complete\n",
        "\n",
        "In this project i will build an auto-complete system.  Auto-complete system is something you may see every day\n"
      ]
    },
    {
      "cell_type": "code",
      "execution_count": null,
      "metadata": {
        "id": "IP-Io9VnPJGg"
      },
      "outputs": [],
      "source": [
        "import math\n",
        "import random\n",
        "import numpy as np\n",
        "import pandas as pd\n",
        "import nltk\n",
        "nltk.data.path.append('.')"
      ]
    },
    {
      "cell_type": "markdown",
      "metadata": {
        "id": "Uw8KwWmvPJGg"
      },
      "source": [
        "<a name='1'></a>\n",
        "## Part 1: Load and Preprocess Data"
      ]
    },
    {
      "cell_type": "code",
      "execution_count": null,
      "metadata": {
        "id": "uqaWxio2PJGg",
        "outputId": "8f2f29a1-80e9-4133-91ec-8b6004cc8058"
      },
      "outputs": [
        {
          "name": "stdout",
          "output_type": "stream",
          "text": [
            "Data type: <class 'str'>\n",
            "Number of letters: 3335477\n",
            "First 300 letters of the data\n",
            "-------\n"
          ]
        },
        {
          "data": {
            "text/plain": [
              "\"How are you? Btw thanks for the RT. You gonna be in DC anytime soon? Love to see you. Been way, way too long.\\nWhen you meet someone special... you'll know. Your heart will beat more rapidly and you'll smile for no reason.\\nthey've decided its more fun if I don't.\\nSo Tired D; Played Lazer Tag & Ran A \""
            ]
          },
          "metadata": {},
          "output_type": "display_data"
        },
        {
          "name": "stdout",
          "output_type": "stream",
          "text": [
            "-------\n",
            "Last 300 letters of the data\n",
            "-------\n"
          ]
        },
        {
          "data": {
            "text/plain": [
              "\"ust had one a few weeks back....hopefully we will be back soon! wish you the best yo\\nColombia is with an 'o'...“: We now ship to 4 countries in South America (fist pump). Please welcome Columbia to the Stunner Family”\\n#GutsiestMovesYouCanMake Giving a cat a bath.\\nCoffee after 5 was a TERRIBLE idea.\\n\""
            ]
          },
          "metadata": {},
          "output_type": "display_data"
        },
        {
          "name": "stdout",
          "output_type": "stream",
          "text": [
            "-------\n"
          ]
        }
      ],
      "source": [
        "with open(\"en_US.twitter.txt\", \"r\") as f:\n",
        "    data = f.read()\n",
        "print(\"Data type:\", type(data))\n",
        "print(\"Number of letters:\", len(data))\n",
        "print(\"First 300 letters of the data\")\n",
        "print(\"-------\")\n",
        "display(data[0:300])\n",
        "print(\"-------\")\n",
        "\n",
        "print(\"Last 300 letters of the data\")\n",
        "print(\"-------\")\n",
        "display(data[-300:])\n",
        "print(\"-------\")"
      ]
    },
    {
      "cell_type": "markdown",
      "metadata": {
        "id": "32y_yjSGPJGh"
      },
      "source": [
        "<a name='1.2'></a>\n",
        "### Part 1.2 Pre-process the data"
      ]
    },
    {
      "cell_type": "code",
      "execution_count": null,
      "metadata": {
        "id": "yCyDQP10PJGh"
      },
      "outputs": [],
      "source": [
        "def split_to_sentences(data):\n",
        "    # Split data by linebreak \"\\n\"\n",
        "    sentences = data.split('\\n')\n",
        "\n",
        "    # Remove leading and trailing spaces from each sentence\n",
        "    # Drop sentences if they are empty strings.\n",
        "    sentences = [s.strip() for s in sentences if s.strip()]\n",
        "\n",
        "    return sentences\n"
      ]
    },
    {
      "cell_type": "code",
      "execution_count": null,
      "metadata": {
        "id": "yf5kfkX7PJGi",
        "outputId": "ca1fac1f-d80f-4fb7-8d13-ec8c8c78157c"
      },
      "outputs": [
        {
          "name": "stdout",
          "output_type": "stream",
          "text": [
            "\n",
            "I have a pen.\n",
            "I have an apple. \n",
            "Ah\n",
            "Apple pen.\n",
            "\n",
            "\n"
          ]
        },
        {
          "data": {
            "text/plain": [
              "['I have a pen.', 'I have an apple.', 'Ah', 'Apple pen.']"
            ]
          },
          "execution_count": 4,
          "metadata": {},
          "output_type": "execute_result"
        }
      ],
      "source": [
        "# testing the code\n",
        "x = \"\"\"\n",
        "I have a pen.\\nI have an apple. \\nAh\\nApple pen.\\n\n",
        "\"\"\"\n",
        "print(x)\n",
        "\n",
        "split_to_sentences(x)"
      ]
    },
    {
      "cell_type": "markdown",
      "metadata": {
        "id": "xXYeHcHIPJGi"
      },
      "source": [
        "<a name='ex-02'></a>\n",
        "The next step is to tokenize sentences (split a sentence into a list of words).\n",
        "- Convert all tokens into lower case so that words which are capitalized (for example, at the start of a sentence) in the original text are treated the same as the lowercase versions of the words.\n",
        "- Append each tokenized list of words into a list of tokenized sentences."
      ]
    },
    {
      "cell_type": "code",
      "execution_count": null,
      "metadata": {
        "id": "UKH0M1AmPJGi"
      },
      "outputs": [],
      "source": [
        "def tokenize_sentences(sentences):\n",
        "    # Initialize the list of lists of tokenized sentences\n",
        "    tokenized_sentences = []\n",
        "\n",
        "    # Go through each sentence\n",
        "    for sentence in sentences:\n",
        "        # Convert to lowercase letters\n",
        "        sentence = sentence.lower()\n",
        "\n",
        "        # Tokenize into a list of words\n",
        "        tokenized = nltk.word_tokenize(sentence)\n",
        "\n",
        "        # Append the list of words to the list of lists\n",
        "        tokenized_sentences.append(tokenized)\n",
        "\n",
        "    return tokenized_sentences\n"
      ]
    },
    {
      "cell_type": "code",
      "execution_count": null,
      "metadata": {
        "id": "DHgcBb9wPJGi",
        "outputId": "77c77b63-e29f-444b-b204-97557d8ed3c7"
      },
      "outputs": [
        {
          "data": {
            "text/plain": [
              "[['sky', 'is', 'blue', '.'],\n",
              " ['leaves', 'are', 'green', '.'],\n",
              " ['roses', 'are', 'red', '.']]"
            ]
          },
          "execution_count": 6,
          "metadata": {},
          "output_type": "execute_result"
        }
      ],
      "source": [
        "# test your code\n",
        "sentences = [\"Sky is blue.\", \"Leaves are green.\", \"Roses are red.\"]\n",
        "tokenize_sentences(sentences)"
      ]
    },
    {
      "cell_type": "markdown",
      "metadata": {
        "id": "6hr9pdFPPJGj"
      },
      "source": [
        "<a name='ex-03'></a>\n",
        "\n",
        "\n",
        "\n",
        "Using the two functions that we have just implemented to get the tokenized data.\n",
        "- split the data into sentences\n",
        "- tokenize those sentences"
      ]
    },
    {
      "cell_type": "code",
      "execution_count": null,
      "metadata": {
        "id": "Ew_0PywPPJGj"
      },
      "outputs": [],
      "source": [
        "def get_tokenized_data(data):\n",
        "    # Get the sentences by splitting up the data\n",
        "    sentences = split_to_sentences(data)\n",
        "\n",
        "    # Tokenize the sentences to get the list of lists of tokens\n",
        "    tokenized_sentences = tokenize_sentences(sentences)\n",
        "\n",
        "    return tokenized_sentences\n"
      ]
    },
    {
      "cell_type": "code",
      "execution_count": null,
      "metadata": {
        "id": "dXBjEXZGPJGj",
        "outputId": "532ca56f-8c5a-4d6b-e56a-944e95849550"
      },
      "outputs": [
        {
          "data": {
            "text/plain": [
              "[['sky', 'is', 'blue', '.'],\n",
              " ['leaves', 'are', 'green'],\n",
              " ['roses', 'are', 'red', '.']]"
            ]
          },
          "execution_count": 8,
          "metadata": {},
          "output_type": "execute_result"
        }
      ],
      "source": [
        "# test your function\n",
        "x = \"Sky is blue.\\nLeaves are green\\nRoses are red.\"\n",
        "get_tokenized_data(x)"
      ]
    },
    {
      "cell_type": "markdown",
      "metadata": {
        "id": "AysJm7nzPJGj"
      },
      "source": [
        "### Split into train and test sets"
      ]
    },
    {
      "cell_type": "code",
      "execution_count": null,
      "metadata": {
        "id": "SuvHuHq0PJGj"
      },
      "outputs": [],
      "source": [
        "tokenized_data = get_tokenized_data(data)\n",
        "random.seed(87)\n",
        "random.shuffle(tokenized_data)\n",
        "\n",
        "train_size = int(len(tokenized_data) * 0.8)\n",
        "train_data = tokenized_data[0:train_size]\n",
        "test_data = tokenized_data[train_size:]"
      ]
    },
    {
      "cell_type": "code",
      "execution_count": null,
      "metadata": {
        "id": "uhtCv1XTPJGk",
        "outputId": "a20139c9-8cb7-4111-8dd1-e9c1388020bd"
      },
      "outputs": [
        {
          "name": "stdout",
          "output_type": "stream",
          "text": [
            "47961 data are split into 38368 train and 9593 test set\n",
            "First training sample:\n",
            "['i', 'personally', 'would', 'like', 'as', 'our', 'official', 'glove', 'of', 'the', 'team', 'local', 'company', 'and', 'quality', 'production']\n",
            "First test sample\n",
            "['that', 'picture', 'i', 'just', 'seen', 'whoa', 'dere', '!', '!', '>', '>', '>', '>', '>', '>', '>']\n"
          ]
        }
      ],
      "source": [
        "print(\"{} data are split into {} train and {} test set\".format(\n",
        "    len(tokenized_data), len(train_data), len(test_data)))\n",
        "\n",
        "print(\"First training sample:\")\n",
        "print(train_data[0])\n",
        "\n",
        "print(\"First test sample\")\n",
        "print(test_data[0])"
      ]
    },
    {
      "cell_type": "markdown",
      "metadata": {
        "id": "4yZ5ovpaPJGk"
      },
      "source": [
        "<a name='ex-04'></a>\n",
        "For our project implementation, we'll prioritize words based on their frequency of occurrence in the data. This entails:\n",
        "\n",
        "Utilizing a double for-loop structure: one loop for iterating through sentences and another nested loop for tokenizing within each sentence.\n",
        "Establishing a threshold, N, to focus on words that appear at least N times in the data, ensuring we capture the most relevant vocabulary."
      ]
    },
    {
      "cell_type": "code",
      "execution_count": null,
      "metadata": {
        "id": "7SsH6lhAPJGk"
      },
      "outputs": [],
      "source": [
        "def count_words(tokenized_sentences):\n",
        "    word_counts = {}\n",
        "\n",
        "    # Loop through each sentence\n",
        "    for sentence in tokenized_sentences:\n",
        "        # Go through each token in the sentence\n",
        "        for token in sentence:\n",
        "            # If the token is not in the dictionary yet, set the count to 1\n",
        "            if token not in word_counts:\n",
        "                word_counts[token] = 1\n",
        "            # If the token is already in the dictionary, increment the count by 1\n",
        "            else:\n",
        "                word_counts[token] += 1\n",
        "\n",
        "    return word_counts\n"
      ]
    },
    {
      "cell_type": "code",
      "execution_count": null,
      "metadata": {
        "id": "N3Bpbw7qPJGk",
        "outputId": "ac3b0fd7-1c90-4ca4-d5ba-d0e21ac7c9f0"
      },
      "outputs": [
        {
          "data": {
            "text/plain": [
              "{'sky': 1,\n",
              " 'is': 1,\n",
              " 'blue': 1,\n",
              " '.': 3,\n",
              " 'leaves': 1,\n",
              " 'are': 2,\n",
              " 'green': 1,\n",
              " 'roses': 1,\n",
              " 'red': 1}"
            ]
          },
          "execution_count": 12,
          "metadata": {},
          "output_type": "execute_result"
        }
      ],
      "source": [
        "# testing the code\n",
        "tokenized_sentences = [['sky', 'is', 'blue', '.'],\n",
        "                       ['leaves', 'are', 'green', '.'],\n",
        "                       ['roses', 'are', 'red', '.']]\n",
        "count_words(tokenized_sentences)"
      ]
    },
    {
      "cell_type": "markdown",
      "metadata": {
        "id": "3pAUrK6oPJGl"
      },
      "source": [
        "### Handling 'Out of Vocabulary' words\n",
        "\n",
        "To effectively handle unknown words during prediction, we'll follow these steps:\n",
        "\n",
        "Generate a list of the most frequent words in the training set, forming the closed vocabulary.\n",
        "Identify words outside the closed vocabulary, i.e., those with low occurrence frequencies.\n",
        "Convert these infrequent words to the special token 'unk', representing unknown words.\n",
        "By implementing this approach, we ensure that the model encounters and learns to handle words it may not have seen frequently during training, thereby enhancing its ability to predict effectively even with out-of-vocabulary words."
      ]
    },
    {
      "cell_type": "markdown",
      "metadata": {
        "id": "5z4Sgvr7PJGl"
      },
      "source": [
        "<a name='ex-05'></a>\n",
        "For our project implementation, we need to create a function that refines a text document based on a specified threshold, 'count_threshold'. This function will:\n",
        "\n",
        "Retain words with counts greater than or equal to 'count_threshold' in the closed vocabulary.\n",
        "Replace all other words with the token 'unk', representing unknown words.\n",
        "This function will help us prepare our training data by ensuring that only the most frequent words, along with the 'unk' token, are included in the document, facilitating effective model training and handling of out-of-vocabulary words during prediction"
      ]
    },
    {
      "cell_type": "code",
      "execution_count": null,
      "metadata": {
        "id": "DOb407DuPJGl"
      },
      "outputs": [],
      "source": [
        "def get_words_with_nplus_frequency(tokenized_sentences, count_threshold):\n",
        "    # Initialize an empty list to contain the words that appear at least 'count_threshold' times.\n",
        "    closed_vocab = []\n",
        "\n",
        "    # Get the word counts of the tokenized sentences\n",
        "    word_counts = count_words(tokenized_sentences)\n",
        "\n",
        "    # Check each word and its count\n",
        "    for word, cnt in word_counts.items():\n",
        "        # Check if the word's count is at least as great as the minimum count threshold\n",
        "        if cnt >= count_threshold:\n",
        "            # Append the word to the list\n",
        "            closed_vocab.append(word)\n",
        "\n",
        "    return closed_vocab\n"
      ]
    },
    {
      "cell_type": "code",
      "execution_count": null,
      "metadata": {
        "id": "m7bGSFYrPJGl",
        "outputId": "b4a25163-2148-477e-c490-16caf08ca90f"
      },
      "outputs": [
        {
          "name": "stdout",
          "output_type": "stream",
          "text": [
            "Closed vocabulary:\n",
            "['.', 'are']\n"
          ]
        }
      ],
      "source": [
        "# testing the code\n",
        "tokenized_sentences = [['sky', 'is', 'blue', '.'],\n",
        "                       ['leaves', 'are', 'green', '.'],\n",
        "                       ['roses', 'are', 'red', '.']]\n",
        "tmp_closed_vocab = get_words_with_nplus_frequency(tokenized_sentences, count_threshold=2)\n",
        "print(f\"Closed vocabulary:\")\n",
        "print(tmp_closed_vocab)"
      ]
    },
    {
      "cell_type": "markdown",
      "metadata": {
        "id": "4LrueGQ8PJGl"
      },
      "source": [
        "<a name='ex-06'></a>\n",
        "For our project implementation, we'll devise a function to process a text document, taking into account a specified threshold, 'count_threshold'. This function will:\n",
        "\n",
        "Define the closed vocabulary as containing words that appear 'count_threshold' times or more.\n",
        "Replace any words not in the closed vocabulary with the special token \"<unk>\", denoting them as unknown.\n",
        "By implementing this approach, we ensure that our training data includes only the most frequently occurring words while efficiently handling out-of-vocabulary instances with the designated '<unk>' token."
      ]
    },
    {
      "cell_type": "code",
      "execution_count": null,
      "metadata": {
        "id": "mr9Zdo01PJGl"
      },
      "outputs": [],
      "source": [
        "def get_words_with_nplus_frequency(tokenized_sentences, count_threshold):\n",
        "    # Initialize an empty list to contain the words that appear at least 'count_threshold' times.\n",
        "    closed_vocab = []\n",
        "\n",
        "    # Get the word counts of the tokenized sentences\n",
        "    word_counts = count_words(tokenized_sentences)\n",
        "\n",
        "    # Check each word and its count\n",
        "    for word, cnt in word_counts.items():\n",
        "        # Check if the word's count is at least as great as the minimum count threshold\n",
        "        if cnt >= count_threshold:\n",
        "            # Append the word to the list\n",
        "            closed_vocab.append(word)\n",
        "\n",
        "    return closed_vocab\n"
      ]
    },
    {
      "cell_type": "code",
      "execution_count": null,
      "metadata": {
        "id": "aZB6JYxAPJGm",
        "outputId": "e0821394-5827-445b-a4f4-64e610929ace"
      },
      "outputs": [
        {
          "name": "stdout",
          "output_type": "stream",
          "text": [
            "Original sentence:\n",
            "[['dogs', 'run'], ['cats', 'sleep']]\n",
            "tokenized_sentences with less frequent words converted to '<unk>':\n",
            "[['dogs', '<unk>'], ['<unk>', 'sleep']]\n"
          ]
        }
      ],
      "source": [
        "tokenized_sentences = [[\"dogs\", \"run\"], [\"cats\", \"sleep\"]]\n",
        "vocabulary = [\"dogs\", \"sleep\"]\n",
        "tmp_replaced_tokenized_sentences = replace_oov_words_by_unk(tokenized_sentences, vocabulary)\n",
        "print(f\"Original sentence:\")\n",
        "print(tokenized_sentences)\n",
        "print(f\"tokenized_sentences with less frequent words converted to '<unk>':\")\n",
        "print(tmp_replaced_tokenized_sentences)"
      ]
    },
    {
      "cell_type": "markdown",
      "metadata": {
        "id": "rIXw652OPJGp"
      },
      "source": [
        "<a name='ex-07'></a>\n",
        "In our project implementation, we're prepared to process our data efficiently by integrating the functions we've developed. Here's the plan:\n",
        "\n",
        "Identify tokens that appear at least 'count_threshold' times in the training data to form the closed vocabulary.\n",
        "Replace tokens with counts below 'count_threshold' with \"<unk>\" for both training and test data.\n",
        "This systematic approach ensures that our training and test data are effectively preprocessed, with infrequent tokens replaced by \"<unk>\" to facilitate robust model training and prediction handling of unknown words."
      ]
    },
    {
      "cell_type": "code",
      "execution_count": null,
      "metadata": {
        "id": "rGoUUTMOPJGq"
      },
      "outputs": [],
      "source": [
        "def preprocess_data(train_data, test_data, count_threshold):\n",
        "    # Get the closed vocabulary using the train data\n",
        "    vocabulary = get_words_with_nplus_frequency(train_data, count_threshold)\n",
        "\n",
        "    # For the train data, replace less common words with \"<unk>\"\n",
        "    train_data_replaced = replace_oov_words_by_unk(train_data, vocabulary)\n",
        "\n",
        "    # For the test data, replace less common words with \"<unk>\"\n",
        "    test_data_replaced = replace_oov_words_by_unk(test_data, vocabulary)\n",
        "\n",
        "    return train_data_replaced, test_data_replaced, vocabulary\n"
      ]
    },
    {
      "cell_type": "code",
      "execution_count": null,
      "metadata": {
        "id": "8lp8N28FPJGq",
        "outputId": "adabc6c9-375a-4720-a55b-98c11eedf9be"
      },
      "outputs": [
        {
          "name": "stdout",
          "output_type": "stream",
          "text": [
            "tmp_train_repl\n",
            "[['sky', 'is', 'blue', '.'], ['leaves', 'are', 'green']]\n",
            "\n",
            "tmp_test_repl\n",
            "[['<unk>', 'are', '<unk>', '.']]\n",
            "\n",
            "tmp_vocab\n",
            "['sky', 'is', 'blue', '.', 'leaves', 'are', 'green']\n"
          ]
        }
      ],
      "source": [
        "# testing the code\n",
        "tmp_train = [['sky', 'is', 'blue', '.'],\n",
        "     ['leaves', 'are', 'green']]\n",
        "tmp_test = [['roses', 'are', 'red', '.']]\n",
        "\n",
        "tmp_train_repl, tmp_test_repl, tmp_vocab = preprocess_data(tmp_train,\n",
        "                                                           tmp_test,\n",
        "                                                           count_threshold = 1)\n",
        "\n",
        "print(\"tmp_train_repl\")\n",
        "print(tmp_train_repl)\n",
        "print()\n",
        "print(\"tmp_test_repl\")\n",
        "print(tmp_test_repl)\n",
        "print()\n",
        "print(\"tmp_vocab\")\n",
        "print(tmp_vocab)"
      ]
    },
    {
      "cell_type": "markdown",
      "metadata": {
        "id": "bk0X82p9PJGq"
      },
      "source": [
        "### Preprocess the train and test data\n",
        "Run the cell below to complete the preprocessing both for training and test sets."
      ]
    },
    {
      "cell_type": "code",
      "execution_count": null,
      "metadata": {
        "id": "VmEbHrHnPJGq"
      },
      "outputs": [],
      "source": [
        "minimum_freq = 2\n",
        "train_data_processed, test_data_processed, vocabulary = preprocess_data(train_data,\n",
        "                                                                        test_data,\n",
        "                                                                        minimum_freq)"
      ]
    },
    {
      "cell_type": "code",
      "execution_count": null,
      "metadata": {
        "id": "8U2kiprtPJGq",
        "outputId": "15cd2f71-05cf-4094-b159-9338f71c3e48"
      },
      "outputs": [
        {
          "name": "stdout",
          "output_type": "stream",
          "text": [
            "First preprocessed training sample:\n",
            "['i', 'personally', 'would', 'like', 'as', 'our', 'official', 'glove', 'of', 'the', 'team', 'local', 'company', 'and', 'quality', 'production']\n",
            "\n",
            "First preprocessed test sample:\n",
            "['that', 'picture', 'i', 'just', 'seen', 'whoa', 'dere', '!', '!', '>', '>', '>', '>', '>', '>', '>']\n",
            "\n",
            "First 10 vocabulary:\n",
            "['i', 'personally', 'would', 'like', 'as', 'our', 'official', 'glove', 'of', 'the']\n",
            "\n",
            "Size of vocabulary: 14821\n"
          ]
        }
      ],
      "source": [
        "print(\"First preprocessed training sample:\")\n",
        "print(train_data_processed[0])\n",
        "print()\n",
        "print(\"First preprocessed test sample:\")\n",
        "print(test_data_processed[0])\n",
        "print()\n",
        "print(\"First 10 vocabulary:\")\n",
        "print(vocabulary[0:10])\n",
        "print()\n",
        "print(\"Size of vocabulary:\", len(vocabulary))"
      ]
    },
    {
      "cell_type": "markdown",
      "metadata": {
        "id": "TGV4gQLvPJGr"
      },
      "source": [
        "<a name='2'></a>\n",
        "## Part 2: Develop n-gram based language models"
      ]
    },
    {
      "cell_type": "markdown",
      "source": [
        "For our project implementation, the next step is to create a function capable of computing the counts of n-grams for any given value of n.\n",
        "\n",
        "Here's how we'll proceed:\n",
        "\n",
        "Prepare each sentence by adding (n-1) starting markers s at the beginning, indicating the start of the sentence.\n",
        "Append an end token \"<e>\" to the sentence to signify its completion.\n",
        "Utilize a dictionary to store the counts of n-grams, with keys represented as tuples of n words (not a list) and values denoting the number of occurrences.\n",
        "It's crucial to note that we'll use tuples instead of lists as keys in the dictionary. This choice is made because tuples are immutable, ensuring that the keys remain consistent and reliable throughout the counting process."
      ],
      "metadata": {
        "id": "0xspShW6GD-j"
      }
    },
    {
      "cell_type": "code",
      "execution_count": null,
      "metadata": {
        "id": "S7B2SdQuPJGr"
      },
      "outputs": [],
      "source": [
        "def count_n_grams(data, n, start_token='<s>', end_token='<e>'):\n",
        "    # Initialize dictionary of n-grams and their counts\n",
        "    n_grams = {}\n",
        "\n",
        "    # Go through each sentence in the data\n",
        "    for sentence in data:\n",
        "        # Prepend start token n times and append <e> once\n",
        "        sentence = [start_token] * n + sentence + [end_token]\n",
        "\n",
        "        # Convert list to tuple\n",
        "        # So that the sequence of words can be used as a key in the dictionary\n",
        "        sentence = tuple(sentence)\n",
        "\n",
        "        # Use 'm' to indicate the last index where the end of the n-gram is within the sentence.\n",
        "        m = len(sentence) if n == 1 else len(sentence) - 1\n",
        "        for i in range(m):\n",
        "            # Get the n-gram from i to i+n\n",
        "            n_gram = sentence[i:i + n]\n",
        "\n",
        "            # Check if the n-gram is in the dictionary\n",
        "            if n_gram in n_grams:\n",
        "                # Increment the count for this n-gram\n",
        "                n_grams[n_gram] += 1\n",
        "            else:\n",
        "                # Initialize this n-gram count to 1\n",
        "                n_grams[n_gram] = 1\n",
        "\n",
        "    return n_grams\n"
      ]
    },
    {
      "cell_type": "code",
      "execution_count": null,
      "metadata": {
        "id": "2uKHBLjBPJGr",
        "outputId": "1a1e0421-fb48-402f-a25d-ce0eee7c016f"
      },
      "outputs": [
        {
          "name": "stdout",
          "output_type": "stream",
          "text": [
            "Uni-gram:\n",
            "{('<s>',): 2, ('i',): 1, ('like',): 2, ('a',): 2, ('cat',): 2, ('<e>',): 2, ('this',): 1, ('dog',): 1, ('is',): 1}\n",
            "Bi-gram:\n",
            "{('<s>', '<s>'): 2, ('<s>', 'i'): 1, ('i', 'like'): 1, ('like', 'a'): 2, ('a', 'cat'): 2, ('cat', '<e>'): 2, ('<s>', 'this'): 1, ('this', 'dog'): 1, ('dog', 'is'): 1, ('is', 'like'): 1}\n"
          ]
        }
      ],
      "source": [
        "# testing  code\n",
        "# CODE REVIEW COMMENT: Outcome does not match expected outcome\n",
        "sentences = [['i', 'like', 'a', 'cat'],\n",
        "             ['this', 'dog', 'is', 'like', 'a', 'cat']]\n",
        "print(\"Uni-gram:\")\n",
        "print(count_n_grams(sentences, 1))\n",
        "print(\"Bi-gram:\")\n",
        "print(count_n_grams(sentences, 2))"
      ]
    },
    {
      "cell_type": "markdown",
      "metadata": {
        "id": "-PLrArM0PJGs"
      },
      "source": [
        "<a name='ex-09'></a>\n",
        "Next, estimate the probability of a word given the prior 'n' words using the n-gram counts.\n",
        "\n",
        "In our project implementation, we need to define a function that computes the probability estimate using n-gram counts and a constant\n",
        "𝑘\n",
        "k. Here's how we'll proceed:\n",
        "\n",
        "The function will accept two dictionaries as input:\n",
        "'n_gram_counts', where the keys represent n-grams and the values denote the counts of those n-grams.\n",
        "'n_plus1_gram_counts', which will be used to find the count for the previous n-gram plus the current word.\n",
        "This function will be essential for estimating probabilities based on the provided n-gram counts and the smoothing constant\n",
        "𝑘\n",
        "k."
      ]
    },
    {
      "cell_type": "code",
      "execution_count": null,
      "metadata": {
        "id": "eOFwPC3oPJGs"
      },
      "outputs": [],
      "source": [
        "def estimate_probability(word, previous_n_gram, n_gram_counts, n_plus1_gram_counts, vocabulary_size, k=1.0):\n",
        "    # Convert list to tuple to use it as a dictionary key\n",
        "    previous_n_gram = tuple(previous_n_gram)\n",
        "\n",
        "    # Set the denominator\n",
        "    # If the previous n-gram exists in the dictionary of n-gram counts,\n",
        "    # get its count. Otherwise, set the count to zero.\n",
        "    previous_n_gram_count = n_gram_counts[previous_n_gram] if previous_n_gram in n_gram_counts else 0\n",
        "\n",
        "    # Calculate the denominator using the count of the previous n-gram and apply k-smoothing\n",
        "    denominator = previous_n_gram_count + k * vocabulary_size\n",
        "\n",
        "    # Define n plus 1 gram as the previous n-gram plus the current word as a tuple\n",
        "    n_plus1_gram = previous_n_gram + (word,)\n",
        "\n",
        "    # Set the count to the count in the dictionary, otherwise 0 if not in the dictionary\n",
        "    n_plus1_gram_count = n_plus1_gram_counts[n_plus1_gram] if n_plus1_gram in n_plus1_gram_counts else 0\n",
        "\n",
        "    # Define the numerator using the count of the n-gram plus current word and apply smoothing\n",
        "    numerator = n_plus1_gram_count + k\n",
        "\n",
        "    # Calculate the probability as the numerator divided by denominator\n",
        "    probability = numerator / denominator\n",
        "\n",
        "    return probability\n"
      ]
    },
    {
      "cell_type": "code",
      "execution_count": null,
      "metadata": {
        "id": "gcZNmHx1PJGs",
        "outputId": "59ba5ade-b5c7-4ec3-cde7-a14030ad09b7"
      },
      "outputs": [
        {
          "name": "stdout",
          "output_type": "stream",
          "text": [
            "The estimated probability of word 'cat' given the previous n-gram 'a' is: 0.3333\n"
          ]
        }
      ],
      "source": [
        "# test your code\n",
        "sentences = [['i', 'like', 'a', 'cat'],\n",
        "             ['this', 'dog', 'is', 'like', 'a', 'cat']]\n",
        "unique_words = list(set(sentences[0] + sentences[1]))\n",
        "\n",
        "unigram_counts = count_n_grams(sentences, 1)\n",
        "bigram_counts = count_n_grams(sentences, 2)\n",
        "tmp_prob = estimate_probability(\"cat\", \"a\", unigram_counts, bigram_counts, len(unique_words), k=1)\n",
        "\n",
        "print(f\"The estimated probability of word 'cat' given the previous n-gram 'a' is: {tmp_prob:.4f}\")"
      ]
    },
    {
      "cell_type": "markdown",
      "metadata": {
        "id": "wA3IB8ZIPJGt"
      },
      "source": [
        "### Estimate probabilities for all words\n",
        "\n",
        "The function defined below loops over all words in vocabulary to calculate probabilities for all possible words.\n",
        "- This function is provided for you."
      ]
    },
    {
      "cell_type": "code",
      "execution_count": null,
      "metadata": {
        "id": "gleYxM11PJGt"
      },
      "outputs": [],
      "source": [
        "def estimate_probabilities(previous_n_gram, n_gram_counts, n_plus1_gram_counts, vocabulary, k=1.0):\n",
        "    # Convert list to tuple to use it as a dictionary key\n",
        "    previous_n_gram = tuple(previous_n_gram)\n",
        "\n",
        "    # Add <e> and <unk> to the vocabulary\n",
        "    # <s> is not needed since it should not appear as the next word\n",
        "    vocabulary = vocabulary + [\"<e>\", \"<unk>\"]\n",
        "    vocabulary_size = len(vocabulary)\n",
        "\n",
        "    probabilities = {}\n",
        "    for word in vocabulary:\n",
        "        probability = estimate_probability(word, previous_n_gram,\n",
        "                                           n_gram_counts, n_plus1_gram_counts,\n",
        "                                           vocabulary_size, k=k)\n",
        "        probabilities[word] = probability\n",
        "\n",
        "    return probabilities\n"
      ]
    },
    {
      "cell_type": "code",
      "execution_count": null,
      "metadata": {
        "id": "oe7Y0aFPPJGt",
        "outputId": "895efd8c-17cb-4485-e72d-445cddc61960"
      },
      "outputs": [
        {
          "data": {
            "text/plain": [
              "{'cat': 0.2727272727272727,\n",
              " 'a': 0.09090909090909091,\n",
              " 'is': 0.09090909090909091,\n",
              " 'like': 0.09090909090909091,\n",
              " 'dog': 0.09090909090909091,\n",
              " 'this': 0.09090909090909091,\n",
              " 'i': 0.09090909090909091,\n",
              " '<e>': 0.09090909090909091,\n",
              " '<unk>': 0.09090909090909091}"
            ]
          },
          "execution_count": 26,
          "metadata": {},
          "output_type": "execute_result"
        }
      ],
      "source": [
        "# test your code\n",
        "sentences = [['i', 'like', 'a', 'cat'],\n",
        "             ['this', 'dog', 'is', 'like', 'a', 'cat']]\n",
        "unique_words = list(set(sentences[0] + sentences[1]))\n",
        "unigram_counts = count_n_grams(sentences, 1)\n",
        "bigram_counts = count_n_grams(sentences, 2)\n",
        "estimate_probabilities(\"a\", unigram_counts, bigram_counts, unique_words, k=1)"
      ]
    },
    {
      "cell_type": "code",
      "execution_count": null,
      "metadata": {
        "id": "LtVNsKYHPJGt",
        "outputId": "28ff0a76-32dc-4adc-8681-bff3b4f9ead4"
      },
      "outputs": [
        {
          "data": {
            "text/plain": [
              "{'cat': 0.09090909090909091,\n",
              " 'a': 0.09090909090909091,\n",
              " 'is': 0.09090909090909091,\n",
              " 'like': 0.09090909090909091,\n",
              " 'dog': 0.09090909090909091,\n",
              " 'this': 0.18181818181818182,\n",
              " 'i': 0.18181818181818182,\n",
              " '<e>': 0.09090909090909091,\n",
              " '<unk>': 0.09090909090909091}"
            ]
          },
          "execution_count": 27,
          "metadata": {},
          "output_type": "execute_result"
        }
      ],
      "source": [
        "# Additional test\n",
        "trigram_counts = count_n_grams(sentences, 3)\n",
        "estimate_probabilities([\"<s>\", \"<s>\"], bigram_counts, trigram_counts, unique_words, k=1)"
      ]
    },
    {
      "cell_type": "markdown",
      "metadata": {
        "id": "dSGQvaxwPJGt"
      },
      "source": [
        "### Count and probability matrices\n",
        "\n",
        "As we have seen so far, the n-gram counts computed above are sufficient for computing the probabilities of the next word.  \n",
        "- It can be more intuitive to present them as count or probability matrices.\n",
        "- The functions defined in the next cells return count or probability matrices.\n",
        "- This function is provided for you."
      ]
    },
    {
      "cell_type": "code",
      "execution_count": null,
      "metadata": {
        "id": "sdPgCwgLPJGu"
      },
      "outputs": [],
      "source": [
        "def make_count_matrix(n_plus1_gram_counts, vocabulary):\n",
        "    # add <e> <unk> to the vocabulary\n",
        "    # <s> is omitted since it should not appear as the next word\n",
        "    vocabulary = vocabulary + [\"<e>\", \"<unk>\"]\n",
        "\n",
        "    # obtain unique n-grams\n",
        "    n_grams = []\n",
        "    for n_plus1_gram in n_plus1_gram_counts.keys():\n",
        "        n_gram = n_plus1_gram[0:-1]\n",
        "        n_grams.append(n_gram)\n",
        "    n_grams = list(set(n_grams))\n",
        "\n",
        "    # mapping from n-gram to row\n",
        "    row_index = {n_gram:i for i, n_gram in enumerate(n_grams)}\n",
        "    # mapping from next word to column\n",
        "    col_index = {word:j for j, word in enumerate(vocabulary)}\n",
        "\n",
        "    nrow = len(n_grams)\n",
        "    ncol = len(vocabulary)\n",
        "    count_matrix = np.zeros((nrow, ncol))\n",
        "    for n_plus1_gram, count in n_plus1_gram_counts.items():\n",
        "        n_gram = n_plus1_gram[0:-1]\n",
        "        word = n_plus1_gram[-1]\n",
        "        if word not in vocabulary:\n",
        "            continue\n",
        "        i = row_index[n_gram]\n",
        "        j = col_index[word]\n",
        "        count_matrix[i, j] = count\n",
        "\n",
        "    count_matrix = pd.DataFrame(count_matrix, index=n_grams, columns=vocabulary)\n",
        "    return count_matrix"
      ]
    },
    {
      "cell_type": "code",
      "execution_count": null,
      "metadata": {
        "id": "BGZ1z7VlPJGu",
        "outputId": "c91a851d-82db-456c-b214-276c5b88d5f4"
      },
      "outputs": [
        {
          "name": "stdout",
          "output_type": "stream",
          "text": [
            "bigram counts\n"
          ]
        },
        {
          "data": {
            "text/html": [
              "<div>\n",
              "<style scoped>\n",
              "    .dataframe tbody tr th:only-of-type {\n",
              "        vertical-align: middle;\n",
              "    }\n",
              "\n",
              "    .dataframe tbody tr th {\n",
              "        vertical-align: top;\n",
              "    }\n",
              "\n",
              "    .dataframe thead th {\n",
              "        text-align: right;\n",
              "    }\n",
              "</style>\n",
              "<table border=\"1\" class=\"dataframe\">\n",
              "  <thead>\n",
              "    <tr style=\"text-align: right;\">\n",
              "      <th></th>\n",
              "      <th>cat</th>\n",
              "      <th>a</th>\n",
              "      <th>is</th>\n",
              "      <th>like</th>\n",
              "      <th>dog</th>\n",
              "      <th>this</th>\n",
              "      <th>i</th>\n",
              "      <th>&lt;e&gt;</th>\n",
              "      <th>&lt;unk&gt;</th>\n",
              "    </tr>\n",
              "  </thead>\n",
              "  <tbody>\n",
              "    <tr>\n",
              "      <th>(is,)</th>\n",
              "      <td>0.0</td>\n",
              "      <td>0.0</td>\n",
              "      <td>0.0</td>\n",
              "      <td>1.0</td>\n",
              "      <td>0.0</td>\n",
              "      <td>0.0</td>\n",
              "      <td>0.0</td>\n",
              "      <td>0.0</td>\n",
              "      <td>0.0</td>\n",
              "    </tr>\n",
              "    <tr>\n",
              "      <th>(cat,)</th>\n",
              "      <td>0.0</td>\n",
              "      <td>0.0</td>\n",
              "      <td>0.0</td>\n",
              "      <td>0.0</td>\n",
              "      <td>0.0</td>\n",
              "      <td>0.0</td>\n",
              "      <td>0.0</td>\n",
              "      <td>2.0</td>\n",
              "      <td>0.0</td>\n",
              "    </tr>\n",
              "    <tr>\n",
              "      <th>(dog,)</th>\n",
              "      <td>0.0</td>\n",
              "      <td>0.0</td>\n",
              "      <td>1.0</td>\n",
              "      <td>0.0</td>\n",
              "      <td>0.0</td>\n",
              "      <td>0.0</td>\n",
              "      <td>0.0</td>\n",
              "      <td>0.0</td>\n",
              "      <td>0.0</td>\n",
              "    </tr>\n",
              "    <tr>\n",
              "      <th>(&lt;s&gt;,)</th>\n",
              "      <td>0.0</td>\n",
              "      <td>0.0</td>\n",
              "      <td>0.0</td>\n",
              "      <td>0.0</td>\n",
              "      <td>0.0</td>\n",
              "      <td>1.0</td>\n",
              "      <td>1.0</td>\n",
              "      <td>0.0</td>\n",
              "      <td>0.0</td>\n",
              "    </tr>\n",
              "    <tr>\n",
              "      <th>(a,)</th>\n",
              "      <td>2.0</td>\n",
              "      <td>0.0</td>\n",
              "      <td>0.0</td>\n",
              "      <td>0.0</td>\n",
              "      <td>0.0</td>\n",
              "      <td>0.0</td>\n",
              "      <td>0.0</td>\n",
              "      <td>0.0</td>\n",
              "      <td>0.0</td>\n",
              "    </tr>\n",
              "    <tr>\n",
              "      <th>(this,)</th>\n",
              "      <td>0.0</td>\n",
              "      <td>0.0</td>\n",
              "      <td>0.0</td>\n",
              "      <td>0.0</td>\n",
              "      <td>1.0</td>\n",
              "      <td>0.0</td>\n",
              "      <td>0.0</td>\n",
              "      <td>0.0</td>\n",
              "      <td>0.0</td>\n",
              "    </tr>\n",
              "    <tr>\n",
              "      <th>(i,)</th>\n",
              "      <td>0.0</td>\n",
              "      <td>0.0</td>\n",
              "      <td>0.0</td>\n",
              "      <td>1.0</td>\n",
              "      <td>0.0</td>\n",
              "      <td>0.0</td>\n",
              "      <td>0.0</td>\n",
              "      <td>0.0</td>\n",
              "      <td>0.0</td>\n",
              "    </tr>\n",
              "    <tr>\n",
              "      <th>(like,)</th>\n",
              "      <td>0.0</td>\n",
              "      <td>2.0</td>\n",
              "      <td>0.0</td>\n",
              "      <td>0.0</td>\n",
              "      <td>0.0</td>\n",
              "      <td>0.0</td>\n",
              "      <td>0.0</td>\n",
              "      <td>0.0</td>\n",
              "      <td>0.0</td>\n",
              "    </tr>\n",
              "  </tbody>\n",
              "</table>\n",
              "</div>"
            ],
            "text/plain": [
              "         cat    a   is  like  dog  this    i  <e>  <unk>\n",
              "(is,)    0.0  0.0  0.0   1.0  0.0   0.0  0.0  0.0    0.0\n",
              "(cat,)   0.0  0.0  0.0   0.0  0.0   0.0  0.0  2.0    0.0\n",
              "(dog,)   0.0  0.0  1.0   0.0  0.0   0.0  0.0  0.0    0.0\n",
              "(<s>,)   0.0  0.0  0.0   0.0  0.0   1.0  1.0  0.0    0.0\n",
              "(a,)     2.0  0.0  0.0   0.0  0.0   0.0  0.0  0.0    0.0\n",
              "(this,)  0.0  0.0  0.0   0.0  1.0   0.0  0.0  0.0    0.0\n",
              "(i,)     0.0  0.0  0.0   1.0  0.0   0.0  0.0  0.0    0.0\n",
              "(like,)  0.0  2.0  0.0   0.0  0.0   0.0  0.0  0.0    0.0"
            ]
          },
          "metadata": {},
          "output_type": "display_data"
        }
      ],
      "source": [
        "sentences = [['i', 'like', 'a', 'cat'],\n",
        "                 ['this', 'dog', 'is', 'like', 'a', 'cat']]\n",
        "unique_words = list(set(sentences[0] + sentences[1]))\n",
        "bigram_counts = count_n_grams(sentences, 2)\n",
        "\n",
        "print('bigram counts')\n",
        "display(make_count_matrix(bigram_counts, unique_words))"
      ]
    },
    {
      "cell_type": "code",
      "execution_count": null,
      "metadata": {
        "id": "8K6YgHIuPJGu",
        "outputId": "b020f2a8-5ffb-4388-8b15-3770c8045f71"
      },
      "outputs": [
        {
          "name": "stdout",
          "output_type": "stream",
          "text": [
            "\n",
            "trigram counts\n"
          ]
        },
        {
          "data": {
            "text/html": [
              "<div>\n",
              "<style scoped>\n",
              "    .dataframe tbody tr th:only-of-type {\n",
              "        vertical-align: middle;\n",
              "    }\n",
              "\n",
              "    .dataframe tbody tr th {\n",
              "        vertical-align: top;\n",
              "    }\n",
              "\n",
              "    .dataframe thead th {\n",
              "        text-align: right;\n",
              "    }\n",
              "</style>\n",
              "<table border=\"1\" class=\"dataframe\">\n",
              "  <thead>\n",
              "    <tr style=\"text-align: right;\">\n",
              "      <th></th>\n",
              "      <th>cat</th>\n",
              "      <th>a</th>\n",
              "      <th>is</th>\n",
              "      <th>like</th>\n",
              "      <th>dog</th>\n",
              "      <th>this</th>\n",
              "      <th>i</th>\n",
              "      <th>&lt;e&gt;</th>\n",
              "      <th>&lt;unk&gt;</th>\n",
              "    </tr>\n",
              "  </thead>\n",
              "  <tbody>\n",
              "    <tr>\n",
              "      <th>(like, a)</th>\n",
              "      <td>2.0</td>\n",
              "      <td>0.0</td>\n",
              "      <td>0.0</td>\n",
              "      <td>0.0</td>\n",
              "      <td>0.0</td>\n",
              "      <td>0.0</td>\n",
              "      <td>0.0</td>\n",
              "      <td>0.0</td>\n",
              "      <td>0.0</td>\n",
              "    </tr>\n",
              "    <tr>\n",
              "      <th>(a, cat)</th>\n",
              "      <td>0.0</td>\n",
              "      <td>0.0</td>\n",
              "      <td>0.0</td>\n",
              "      <td>0.0</td>\n",
              "      <td>0.0</td>\n",
              "      <td>0.0</td>\n",
              "      <td>0.0</td>\n",
              "      <td>2.0</td>\n",
              "      <td>0.0</td>\n",
              "    </tr>\n",
              "    <tr>\n",
              "      <th>(cat,)</th>\n",
              "      <td>0.0</td>\n",
              "      <td>0.0</td>\n",
              "      <td>0.0</td>\n",
              "      <td>0.0</td>\n",
              "      <td>0.0</td>\n",
              "      <td>0.0</td>\n",
              "      <td>0.0</td>\n",
              "      <td>2.0</td>\n",
              "      <td>0.0</td>\n",
              "    </tr>\n",
              "    <tr>\n",
              "      <th>(is, like)</th>\n",
              "      <td>0.0</td>\n",
              "      <td>1.0</td>\n",
              "      <td>0.0</td>\n",
              "      <td>0.0</td>\n",
              "      <td>0.0</td>\n",
              "      <td>0.0</td>\n",
              "      <td>0.0</td>\n",
              "      <td>0.0</td>\n",
              "      <td>0.0</td>\n",
              "    </tr>\n",
              "    <tr>\n",
              "      <th>(&lt;s&gt;, this)</th>\n",
              "      <td>0.0</td>\n",
              "      <td>0.0</td>\n",
              "      <td>0.0</td>\n",
              "      <td>0.0</td>\n",
              "      <td>1.0</td>\n",
              "      <td>0.0</td>\n",
              "      <td>0.0</td>\n",
              "      <td>0.0</td>\n",
              "      <td>0.0</td>\n",
              "    </tr>\n",
              "    <tr>\n",
              "      <th>(&lt;s&gt;, i)</th>\n",
              "      <td>0.0</td>\n",
              "      <td>0.0</td>\n",
              "      <td>0.0</td>\n",
              "      <td>1.0</td>\n",
              "      <td>0.0</td>\n",
              "      <td>0.0</td>\n",
              "      <td>0.0</td>\n",
              "      <td>0.0</td>\n",
              "      <td>0.0</td>\n",
              "    </tr>\n",
              "    <tr>\n",
              "      <th>(i, like)</th>\n",
              "      <td>0.0</td>\n",
              "      <td>1.0</td>\n",
              "      <td>0.0</td>\n",
              "      <td>0.0</td>\n",
              "      <td>0.0</td>\n",
              "      <td>0.0</td>\n",
              "      <td>0.0</td>\n",
              "      <td>0.0</td>\n",
              "      <td>0.0</td>\n",
              "    </tr>\n",
              "    <tr>\n",
              "      <th>(this, dog)</th>\n",
              "      <td>0.0</td>\n",
              "      <td>0.0</td>\n",
              "      <td>1.0</td>\n",
              "      <td>0.0</td>\n",
              "      <td>0.0</td>\n",
              "      <td>0.0</td>\n",
              "      <td>0.0</td>\n",
              "      <td>0.0</td>\n",
              "      <td>0.0</td>\n",
              "    </tr>\n",
              "    <tr>\n",
              "      <th>(dog, is)</th>\n",
              "      <td>0.0</td>\n",
              "      <td>0.0</td>\n",
              "      <td>0.0</td>\n",
              "      <td>1.0</td>\n",
              "      <td>0.0</td>\n",
              "      <td>0.0</td>\n",
              "      <td>0.0</td>\n",
              "      <td>0.0</td>\n",
              "      <td>0.0</td>\n",
              "    </tr>\n",
              "    <tr>\n",
              "      <th>(&lt;s&gt;, &lt;s&gt;)</th>\n",
              "      <td>0.0</td>\n",
              "      <td>0.0</td>\n",
              "      <td>0.0</td>\n",
              "      <td>0.0</td>\n",
              "      <td>0.0</td>\n",
              "      <td>1.0</td>\n",
              "      <td>1.0</td>\n",
              "      <td>0.0</td>\n",
              "      <td>0.0</td>\n",
              "    </tr>\n",
              "  </tbody>\n",
              "</table>\n",
              "</div>"
            ],
            "text/plain": [
              "             cat    a   is  like  dog  this    i  <e>  <unk>\n",
              "(like, a)    2.0  0.0  0.0   0.0  0.0   0.0  0.0  0.0    0.0\n",
              "(a, cat)     0.0  0.0  0.0   0.0  0.0   0.0  0.0  2.0    0.0\n",
              "(cat,)       0.0  0.0  0.0   0.0  0.0   0.0  0.0  2.0    0.0\n",
              "(is, like)   0.0  1.0  0.0   0.0  0.0   0.0  0.0  0.0    0.0\n",
              "(<s>, this)  0.0  0.0  0.0   0.0  1.0   0.0  0.0  0.0    0.0\n",
              "(<s>, i)     0.0  0.0  0.0   1.0  0.0   0.0  0.0  0.0    0.0\n",
              "(i, like)    0.0  1.0  0.0   0.0  0.0   0.0  0.0  0.0    0.0\n",
              "(this, dog)  0.0  0.0  1.0   0.0  0.0   0.0  0.0  0.0    0.0\n",
              "(dog, is)    0.0  0.0  0.0   1.0  0.0   0.0  0.0  0.0    0.0\n",
              "(<s>, <s>)   0.0  0.0  0.0   0.0  0.0   1.0  1.0  0.0    0.0"
            ]
          },
          "metadata": {},
          "output_type": "display_data"
        }
      ],
      "source": [
        "# Show trigram counts\n",
        "print('\\ntrigram counts')\n",
        "trigram_counts = count_n_grams(sentences, 3)\n",
        "display(make_count_matrix(trigram_counts, unique_words))"
      ]
    },
    {
      "cell_type": "markdown",
      "metadata": {
        "id": "A0rr_z-fPJGu"
      },
      "source": [
        "The following function calculates the probabilities of each word given the previous n-gram, and stores this in matrix form.\n",
        "- This function is provided for you."
      ]
    },
    {
      "cell_type": "code",
      "execution_count": null,
      "metadata": {
        "id": "CRHeUNsRPJGu"
      },
      "outputs": [],
      "source": [
        "def make_probability_matrix(n_plus1_gram_counts, vocabulary, k):\n",
        "    count_matrix = make_count_matrix(n_plus1_gram_counts, unique_words)\n",
        "    count_matrix += k\n",
        "    prob_matrix = count_matrix.div(count_matrix.sum(axis=1), axis=0)\n",
        "    return prob_matrix"
      ]
    },
    {
      "cell_type": "code",
      "execution_count": null,
      "metadata": {
        "id": "Scfqv2ghPJGv",
        "outputId": "dc758cff-fb88-4795-baf5-9ee99c22cd02"
      },
      "outputs": [
        {
          "name": "stdout",
          "output_type": "stream",
          "text": [
            "bigram probabilities\n"
          ]
        },
        {
          "data": {
            "text/html": [
              "<div>\n",
              "<style scoped>\n",
              "    .dataframe tbody tr th:only-of-type {\n",
              "        vertical-align: middle;\n",
              "    }\n",
              "\n",
              "    .dataframe tbody tr th {\n",
              "        vertical-align: top;\n",
              "    }\n",
              "\n",
              "    .dataframe thead th {\n",
              "        text-align: right;\n",
              "    }\n",
              "</style>\n",
              "<table border=\"1\" class=\"dataframe\">\n",
              "  <thead>\n",
              "    <tr style=\"text-align: right;\">\n",
              "      <th></th>\n",
              "      <th>cat</th>\n",
              "      <th>a</th>\n",
              "      <th>is</th>\n",
              "      <th>like</th>\n",
              "      <th>dog</th>\n",
              "      <th>this</th>\n",
              "      <th>i</th>\n",
              "      <th>&lt;e&gt;</th>\n",
              "      <th>&lt;unk&gt;</th>\n",
              "    </tr>\n",
              "  </thead>\n",
              "  <tbody>\n",
              "    <tr>\n",
              "      <th>(is,)</th>\n",
              "      <td>0.100000</td>\n",
              "      <td>0.100000</td>\n",
              "      <td>0.100000</td>\n",
              "      <td>0.200000</td>\n",
              "      <td>0.100000</td>\n",
              "      <td>0.100000</td>\n",
              "      <td>0.100000</td>\n",
              "      <td>0.100000</td>\n",
              "      <td>0.100000</td>\n",
              "    </tr>\n",
              "    <tr>\n",
              "      <th>(cat,)</th>\n",
              "      <td>0.090909</td>\n",
              "      <td>0.090909</td>\n",
              "      <td>0.090909</td>\n",
              "      <td>0.090909</td>\n",
              "      <td>0.090909</td>\n",
              "      <td>0.090909</td>\n",
              "      <td>0.090909</td>\n",
              "      <td>0.272727</td>\n",
              "      <td>0.090909</td>\n",
              "    </tr>\n",
              "    <tr>\n",
              "      <th>(dog,)</th>\n",
              "      <td>0.100000</td>\n",
              "      <td>0.100000</td>\n",
              "      <td>0.200000</td>\n",
              "      <td>0.100000</td>\n",
              "      <td>0.100000</td>\n",
              "      <td>0.100000</td>\n",
              "      <td>0.100000</td>\n",
              "      <td>0.100000</td>\n",
              "      <td>0.100000</td>\n",
              "    </tr>\n",
              "    <tr>\n",
              "      <th>(&lt;s&gt;,)</th>\n",
              "      <td>0.090909</td>\n",
              "      <td>0.090909</td>\n",
              "      <td>0.090909</td>\n",
              "      <td>0.090909</td>\n",
              "      <td>0.090909</td>\n",
              "      <td>0.181818</td>\n",
              "      <td>0.181818</td>\n",
              "      <td>0.090909</td>\n",
              "      <td>0.090909</td>\n",
              "    </tr>\n",
              "    <tr>\n",
              "      <th>(a,)</th>\n",
              "      <td>0.272727</td>\n",
              "      <td>0.090909</td>\n",
              "      <td>0.090909</td>\n",
              "      <td>0.090909</td>\n",
              "      <td>0.090909</td>\n",
              "      <td>0.090909</td>\n",
              "      <td>0.090909</td>\n",
              "      <td>0.090909</td>\n",
              "      <td>0.090909</td>\n",
              "    </tr>\n",
              "    <tr>\n",
              "      <th>(this,)</th>\n",
              "      <td>0.100000</td>\n",
              "      <td>0.100000</td>\n",
              "      <td>0.100000</td>\n",
              "      <td>0.100000</td>\n",
              "      <td>0.200000</td>\n",
              "      <td>0.100000</td>\n",
              "      <td>0.100000</td>\n",
              "      <td>0.100000</td>\n",
              "      <td>0.100000</td>\n",
              "    </tr>\n",
              "    <tr>\n",
              "      <th>(i,)</th>\n",
              "      <td>0.100000</td>\n",
              "      <td>0.100000</td>\n",
              "      <td>0.100000</td>\n",
              "      <td>0.200000</td>\n",
              "      <td>0.100000</td>\n",
              "      <td>0.100000</td>\n",
              "      <td>0.100000</td>\n",
              "      <td>0.100000</td>\n",
              "      <td>0.100000</td>\n",
              "    </tr>\n",
              "    <tr>\n",
              "      <th>(like,)</th>\n",
              "      <td>0.090909</td>\n",
              "      <td>0.272727</td>\n",
              "      <td>0.090909</td>\n",
              "      <td>0.090909</td>\n",
              "      <td>0.090909</td>\n",
              "      <td>0.090909</td>\n",
              "      <td>0.090909</td>\n",
              "      <td>0.090909</td>\n",
              "      <td>0.090909</td>\n",
              "    </tr>\n",
              "  </tbody>\n",
              "</table>\n",
              "</div>"
            ],
            "text/plain": [
              "              cat         a        is      like       dog      this         i  \\\n",
              "(is,)    0.100000  0.100000  0.100000  0.200000  0.100000  0.100000  0.100000   \n",
              "(cat,)   0.090909  0.090909  0.090909  0.090909  0.090909  0.090909  0.090909   \n",
              "(dog,)   0.100000  0.100000  0.200000  0.100000  0.100000  0.100000  0.100000   \n",
              "(<s>,)   0.090909  0.090909  0.090909  0.090909  0.090909  0.181818  0.181818   \n",
              "(a,)     0.272727  0.090909  0.090909  0.090909  0.090909  0.090909  0.090909   \n",
              "(this,)  0.100000  0.100000  0.100000  0.100000  0.200000  0.100000  0.100000   \n",
              "(i,)     0.100000  0.100000  0.100000  0.200000  0.100000  0.100000  0.100000   \n",
              "(like,)  0.090909  0.272727  0.090909  0.090909  0.090909  0.090909  0.090909   \n",
              "\n",
              "              <e>     <unk>  \n",
              "(is,)    0.100000  0.100000  \n",
              "(cat,)   0.272727  0.090909  \n",
              "(dog,)   0.100000  0.100000  \n",
              "(<s>,)   0.090909  0.090909  \n",
              "(a,)     0.090909  0.090909  \n",
              "(this,)  0.100000  0.100000  \n",
              "(i,)     0.100000  0.100000  \n",
              "(like,)  0.090909  0.090909  "
            ]
          },
          "metadata": {},
          "output_type": "display_data"
        }
      ],
      "source": [
        "sentences = [['i', 'like', 'a', 'cat'],\n",
        "                 ['this', 'dog', 'is', 'like', 'a', 'cat']]\n",
        "unique_words = list(set(sentences[0] + sentences[1]))\n",
        "bigram_counts = count_n_grams(sentences, 2)\n",
        "print(\"bigram probabilities\")\n",
        "display(make_probability_matrix(bigram_counts, unique_words, k=1))"
      ]
    },
    {
      "cell_type": "code",
      "execution_count": null,
      "metadata": {
        "id": "1zF278nUPJGv",
        "outputId": "1c111501-934f-4777-aec8-8e22bcba52e9"
      },
      "outputs": [
        {
          "name": "stdout",
          "output_type": "stream",
          "text": [
            "trigram probabilities\n"
          ]
        },
        {
          "data": {
            "text/html": [
              "<div>\n",
              "<style scoped>\n",
              "    .dataframe tbody tr th:only-of-type {\n",
              "        vertical-align: middle;\n",
              "    }\n",
              "\n",
              "    .dataframe tbody tr th {\n",
              "        vertical-align: top;\n",
              "    }\n",
              "\n",
              "    .dataframe thead th {\n",
              "        text-align: right;\n",
              "    }\n",
              "</style>\n",
              "<table border=\"1\" class=\"dataframe\">\n",
              "  <thead>\n",
              "    <tr style=\"text-align: right;\">\n",
              "      <th></th>\n",
              "      <th>cat</th>\n",
              "      <th>a</th>\n",
              "      <th>is</th>\n",
              "      <th>like</th>\n",
              "      <th>dog</th>\n",
              "      <th>this</th>\n",
              "      <th>i</th>\n",
              "      <th>&lt;e&gt;</th>\n",
              "      <th>&lt;unk&gt;</th>\n",
              "    </tr>\n",
              "  </thead>\n",
              "  <tbody>\n",
              "    <tr>\n",
              "      <th>(like, a)</th>\n",
              "      <td>0.272727</td>\n",
              "      <td>0.090909</td>\n",
              "      <td>0.090909</td>\n",
              "      <td>0.090909</td>\n",
              "      <td>0.090909</td>\n",
              "      <td>0.090909</td>\n",
              "      <td>0.090909</td>\n",
              "      <td>0.090909</td>\n",
              "      <td>0.090909</td>\n",
              "    </tr>\n",
              "    <tr>\n",
              "      <th>(a, cat)</th>\n",
              "      <td>0.090909</td>\n",
              "      <td>0.090909</td>\n",
              "      <td>0.090909</td>\n",
              "      <td>0.090909</td>\n",
              "      <td>0.090909</td>\n",
              "      <td>0.090909</td>\n",
              "      <td>0.090909</td>\n",
              "      <td>0.272727</td>\n",
              "      <td>0.090909</td>\n",
              "    </tr>\n",
              "    <tr>\n",
              "      <th>(cat,)</th>\n",
              "      <td>0.090909</td>\n",
              "      <td>0.090909</td>\n",
              "      <td>0.090909</td>\n",
              "      <td>0.090909</td>\n",
              "      <td>0.090909</td>\n",
              "      <td>0.090909</td>\n",
              "      <td>0.090909</td>\n",
              "      <td>0.272727</td>\n",
              "      <td>0.090909</td>\n",
              "    </tr>\n",
              "    <tr>\n",
              "      <th>(is, like)</th>\n",
              "      <td>0.100000</td>\n",
              "      <td>0.200000</td>\n",
              "      <td>0.100000</td>\n",
              "      <td>0.100000</td>\n",
              "      <td>0.100000</td>\n",
              "      <td>0.100000</td>\n",
              "      <td>0.100000</td>\n",
              "      <td>0.100000</td>\n",
              "      <td>0.100000</td>\n",
              "    </tr>\n",
              "    <tr>\n",
              "      <th>(&lt;s&gt;, this)</th>\n",
              "      <td>0.100000</td>\n",
              "      <td>0.100000</td>\n",
              "      <td>0.100000</td>\n",
              "      <td>0.100000</td>\n",
              "      <td>0.200000</td>\n",
              "      <td>0.100000</td>\n",
              "      <td>0.100000</td>\n",
              "      <td>0.100000</td>\n",
              "      <td>0.100000</td>\n",
              "    </tr>\n",
              "    <tr>\n",
              "      <th>(&lt;s&gt;, i)</th>\n",
              "      <td>0.100000</td>\n",
              "      <td>0.100000</td>\n",
              "      <td>0.100000</td>\n",
              "      <td>0.200000</td>\n",
              "      <td>0.100000</td>\n",
              "      <td>0.100000</td>\n",
              "      <td>0.100000</td>\n",
              "      <td>0.100000</td>\n",
              "      <td>0.100000</td>\n",
              "    </tr>\n",
              "    <tr>\n",
              "      <th>(i, like)</th>\n",
              "      <td>0.100000</td>\n",
              "      <td>0.200000</td>\n",
              "      <td>0.100000</td>\n",
              "      <td>0.100000</td>\n",
              "      <td>0.100000</td>\n",
              "      <td>0.100000</td>\n",
              "      <td>0.100000</td>\n",
              "      <td>0.100000</td>\n",
              "      <td>0.100000</td>\n",
              "    </tr>\n",
              "    <tr>\n",
              "      <th>(this, dog)</th>\n",
              "      <td>0.100000</td>\n",
              "      <td>0.100000</td>\n",
              "      <td>0.200000</td>\n",
              "      <td>0.100000</td>\n",
              "      <td>0.100000</td>\n",
              "      <td>0.100000</td>\n",
              "      <td>0.100000</td>\n",
              "      <td>0.100000</td>\n",
              "      <td>0.100000</td>\n",
              "    </tr>\n",
              "    <tr>\n",
              "      <th>(dog, is)</th>\n",
              "      <td>0.100000</td>\n",
              "      <td>0.100000</td>\n",
              "      <td>0.100000</td>\n",
              "      <td>0.200000</td>\n",
              "      <td>0.100000</td>\n",
              "      <td>0.100000</td>\n",
              "      <td>0.100000</td>\n",
              "      <td>0.100000</td>\n",
              "      <td>0.100000</td>\n",
              "    </tr>\n",
              "    <tr>\n",
              "      <th>(&lt;s&gt;, &lt;s&gt;)</th>\n",
              "      <td>0.090909</td>\n",
              "      <td>0.090909</td>\n",
              "      <td>0.090909</td>\n",
              "      <td>0.090909</td>\n",
              "      <td>0.090909</td>\n",
              "      <td>0.181818</td>\n",
              "      <td>0.181818</td>\n",
              "      <td>0.090909</td>\n",
              "      <td>0.090909</td>\n",
              "    </tr>\n",
              "  </tbody>\n",
              "</table>\n",
              "</div>"
            ],
            "text/plain": [
              "                  cat         a        is      like       dog      this  \\\n",
              "(like, a)    0.272727  0.090909  0.090909  0.090909  0.090909  0.090909   \n",
              "(a, cat)     0.090909  0.090909  0.090909  0.090909  0.090909  0.090909   \n",
              "(cat,)       0.090909  0.090909  0.090909  0.090909  0.090909  0.090909   \n",
              "(is, like)   0.100000  0.200000  0.100000  0.100000  0.100000  0.100000   \n",
              "(<s>, this)  0.100000  0.100000  0.100000  0.100000  0.200000  0.100000   \n",
              "(<s>, i)     0.100000  0.100000  0.100000  0.200000  0.100000  0.100000   \n",
              "(i, like)    0.100000  0.200000  0.100000  0.100000  0.100000  0.100000   \n",
              "(this, dog)  0.100000  0.100000  0.200000  0.100000  0.100000  0.100000   \n",
              "(dog, is)    0.100000  0.100000  0.100000  0.200000  0.100000  0.100000   \n",
              "(<s>, <s>)   0.090909  0.090909  0.090909  0.090909  0.090909  0.181818   \n",
              "\n",
              "                    i       <e>     <unk>  \n",
              "(like, a)    0.090909  0.090909  0.090909  \n",
              "(a, cat)     0.090909  0.272727  0.090909  \n",
              "(cat,)       0.090909  0.272727  0.090909  \n",
              "(is, like)   0.100000  0.100000  0.100000  \n",
              "(<s>, this)  0.100000  0.100000  0.100000  \n",
              "(<s>, i)     0.100000  0.100000  0.100000  \n",
              "(i, like)    0.100000  0.100000  0.100000  \n",
              "(this, dog)  0.100000  0.100000  0.100000  \n",
              "(dog, is)    0.100000  0.100000  0.100000  \n",
              "(<s>, <s>)   0.181818  0.090909  0.090909  "
            ]
          },
          "metadata": {},
          "output_type": "display_data"
        }
      ],
      "source": [
        "print(\"trigram probabilities\")\n",
        "trigram_counts = count_n_grams(sentences, 3)\n",
        "display(make_probability_matrix(trigram_counts, unique_words, k=1))"
      ]
    },
    {
      "cell_type": "markdown",
      "metadata": {
        "id": "P7849VrVPJGv"
      },
      "source": [
        "Confirm that you obtain the same results as for the `estimate_probabilities` function that you implemented."
      ]
    },
    {
      "cell_type": "markdown",
      "metadata": {
        "id": "cWl9JUFFPJGv"
      },
      "source": [
        "<a name='3'></a>\n",
        "## Part 3: Perplexity\n",
        "\n",
        "In this section, we'll evaluate our model on the test set using perplexity scores. Here's the plan:\n",
        "\n",
        "We'll incorporate back-off strategies when necessary to handle unseen n-grams.\n",
        "Perplexity serves as a critical metric for evaluating our language model's performance.\n",
        "Essentially, perplexity measures how well the model predicts the test set. A lower perplexity indicates better performance, meaning the model's predictions align well with the actual test data."
      ]
    },
    {
      "cell_type": "markdown",
      "metadata": {
        "id": "0v02kzuoPJGv"
      },
      "source": [
        "<a name='ex-10'></a>\n",
        "Compute the perplexity score given an N-gram count matrix and a sentence."
      ]
    },
    {
      "cell_type": "code",
      "execution_count": null,
      "metadata": {
        "id": "tSDXjFYEPJGv"
      },
      "outputs": [],
      "source": [
        "def calculate_perplexity(sentence, n_gram_counts, n_plus1_gram_counts, vocabulary_size, k=1.0):\n",
        "    # Length of previous words\n",
        "    n = len(list(n_gram_counts.keys())[0])\n",
        "\n",
        "    # Prepend <s> and append <e>\n",
        "    sentence = [\"<s>\"] * n + sentence + [\"<e>\"]\n",
        "\n",
        "    # Cast the sentence from a list to a tuple\n",
        "    sentence = tuple(sentence)\n",
        "\n",
        "    # Length of sentence (after adding <s> and <e> tokens)\n",
        "    N = len(sentence)\n",
        "\n",
        "    # The variable product_pi will hold the product\n",
        "    # that is calculated inside the n-root\n",
        "    product_pi = 1.0\n",
        "\n",
        "    # Index t ranges from n to N - 1, inclusive on both ends\n",
        "    for t in range(n, N):\n",
        "        # Get the n-gram preceding the word at position t\n",
        "        n_gram = sentence[t - n:t]\n",
        "\n",
        "        # Get the word at position t\n",
        "        word = sentence[t]\n",
        "\n",
        "        # Estimate the probability of the word given the n-gram\n",
        "        # using the n-gram counts, n-plus1-gram counts,\n",
        "        # vocabulary size, and smoothing constant\n",
        "        probability = estimate_probability(word, n_gram, n_gram_counts, n_plus1_gram_counts, vocabulary_size, k=k)\n",
        "\n",
        "        # Update the product of the probabilities\n",
        "        # This 'product_pi' is a cumulative product\n",
        "        # of the (1/P) factors that are calculated in the loop\n",
        "        product_pi *= 1 / probability\n",
        "\n",
        "    # Take the Nth root of the product\n",
        "    perplexity = product_pi ** (1 / float(N))\n",
        "\n",
        "    return perplexity\n"
      ]
    },
    {
      "cell_type": "code",
      "execution_count": null,
      "metadata": {
        "id": "dMucu_mdPJGw",
        "outputId": "10746a5b-93c8-47b7-9053-44d4ff47ff0e"
      },
      "outputs": [
        {
          "name": "stdout",
          "output_type": "stream",
          "text": [
            "Perplexity for first train sample: 2.8040\n",
            "Perplexity for test sample: 3.9654\n"
          ]
        }
      ],
      "source": [
        "# test your code\n",
        "\n",
        "sentences = [['i', 'like', 'a', 'cat'],\n",
        "                 ['this', 'dog', 'is', 'like', 'a', 'cat']]\n",
        "unique_words = list(set(sentences[0] + sentences[1]))\n",
        "\n",
        "unigram_counts = count_n_grams(sentences, 1)\n",
        "bigram_counts = count_n_grams(sentences, 2)\n",
        "\n",
        "\n",
        "perplexity_train1 = calculate_perplexity(sentences[0],\n",
        "                                         unigram_counts, bigram_counts,\n",
        "                                         len(unique_words), k=1.0)\n",
        "print(f\"Perplexity for first train sample: {perplexity_train1:.4f}\")\n",
        "\n",
        "test_sentence = ['i', 'like', 'a', 'dog']\n",
        "perplexity_test = calculate_perplexity(test_sentence,\n",
        "                                       unigram_counts, bigram_counts,\n",
        "                                       len(unique_words), k=1.0)\n",
        "print(f\"Perplexity for test sample: {perplexity_test:.4f}\")"
      ]
    },
    {
      "cell_type": "markdown",
      "metadata": {
        "id": "Hqu-9mDbPJGw"
      },
      "source": [
        "<a name='4'></a>\n",
        "## Part 4: Build an auto-complete system\n",
        "\n",
        "In this section, you will combine the language models developed so far to implement an auto-complete system.\n"
      ]
    },
    {
      "cell_type": "markdown",
      "metadata": {
        "id": "_46en_DTPJGw"
      },
      "source": [
        "<a name='ex-11'></a>\n",
        "Compute probabilities for all possible next words and suggest the most likely one.\n",
        "- This function also take an optional argument `start_with`, which specifies the first few letters of the next words."
      ]
    },
    {
      "cell_type": "code",
      "execution_count": null,
      "metadata": {
        "id": "Q5fAXIP7PJGw"
      },
      "outputs": [],
      "source": [
        "def suggest_a_word(previous_tokens, n_gram_counts, n_plus1_gram_counts, vocabulary, k=1.0, start_with=None):\n",
        "    # Length of previous words\n",
        "    n = len(list(n_gram_counts.keys())[0])\n",
        "\n",
        "    # From the words that the user already typed,\n",
        "    # get the most recent 'n' words as the previous n-gram\n",
        "    previous_n_gram = previous_tokens[-n:]\n",
        "\n",
        "    # Estimate the probabilities that each word in the vocabulary\n",
        "    # is the next word, given the previous n-gram,\n",
        "    # the dictionary of n-gram counts, the dictionary of n plus 1 gram counts,\n",
        "    # and the smoothing constant\n",
        "    probabilities = estimate_probabilities(previous_n_gram, n_gram_counts, n_plus1_gram_counts, vocabulary, k=k)\n",
        "\n",
        "    # Initialize suggested word to None. This will be set to the word with highest probability\n",
        "    suggestion = None\n",
        "\n",
        "    # Initialize the highest word probability to 0. This will be set to the highest probability of all words to be suggested\n",
        "    max_prob = 0\n",
        "\n",
        "    # For each word and its probability in the probabilities dictionary:\n",
        "    for word, prob in probabilities.items():\n",
        "        # If the optional start_with string is set and the beginning of word does not match with the letters in 'start_with', skip this word\n",
        "        if start_with is not None and not word.startswith(start_with):\n",
        "            continue\n",
        "\n",
        "        # Check if this word's probability is greater than the current maximum probability\n",
        "        if prob > max_prob:\n",
        "            # If so, save this word as the best suggestion (so far)\n",
        "            suggestion = word\n",
        "            # Save the new maximum probability\n",
        "            max_prob = prob\n",
        "\n",
        "    return suggestion, max_prob\n"
      ]
    },
    {
      "cell_type": "code",
      "execution_count": null,
      "metadata": {
        "id": "0a1iWpmYPJGx",
        "outputId": "e000f56f-5827-4e9c-8e42-c75839f12157"
      },
      "outputs": [
        {
          "name": "stdout",
          "output_type": "stream",
          "text": [
            "The previous words are 'i like',\n",
            "\tand the suggested word is `a` with a probability of 0.2727\n",
            "\n",
            "The previous words are 'i like', the suggestion must start with `c`\n",
            "\tand the suggested word is `cat` with a probability of 0.0909\n"
          ]
        }
      ],
      "source": [
        "# test your code\n",
        "sentences = [['i', 'like', 'a', 'cat'],\n",
        "             ['this', 'dog', 'is', 'like', 'a', 'cat']]\n",
        "unique_words = list(set(sentences[0] + sentences[1]))\n",
        "\n",
        "unigram_counts = count_n_grams(sentences, 1)\n",
        "bigram_counts = count_n_grams(sentences, 2)\n",
        "\n",
        "previous_tokens = [\"i\", \"like\"]\n",
        "tmp_suggest1 = suggest_a_word(previous_tokens, unigram_counts, bigram_counts, unique_words, k=1.0)\n",
        "print(f\"The previous words are 'i like',\\n\\tand the suggested word is `{tmp_suggest1[0]}` with a probability of {tmp_suggest1[1]:.4f}\")\n",
        "\n",
        "print()\n",
        "# test your code when setting the starts_with\n",
        "tmp_starts_with = 'c'\n",
        "tmp_suggest2 = suggest_a_word(previous_tokens, unigram_counts, bigram_counts, unique_words, k=1.0, start_with=tmp_starts_with)\n",
        "print(f\"The previous words are 'i like', the suggestion must start with `{tmp_starts_with}`\\n\\tand the suggested word is `{tmp_suggest2[0]}` with a probability of {tmp_suggest2[1]:.4f}\")"
      ]
    },
    {
      "cell_type": "markdown",
      "metadata": {
        "id": "bh0UwGcZPJGx"
      },
      "source": [
        "### Get multiple suggestions\n",
        "\n",
        "The function defined below loop over varioud n-gram models to get multiple suggestions."
      ]
    },
    {
      "cell_type": "code",
      "execution_count": null,
      "metadata": {
        "id": "RbPpg6MkPJGx"
      },
      "outputs": [],
      "source": [
        "def get_suggestions(previous_tokens, n_gram_counts_list, vocabulary, k=1.0, start_with=None):\n",
        "    model_counts = len(n_gram_counts_list)\n",
        "    suggestions = []\n",
        "    for i in range(model_counts-1):\n",
        "        n_gram_counts = n_gram_counts_list[i]\n",
        "        n_plus1_gram_counts = n_gram_counts_list[i+1]\n",
        "\n",
        "        suggestion = suggest_a_word(previous_tokens, n_gram_counts,\n",
        "                                    n_plus1_gram_counts, vocabulary,\n",
        "                                    k=k, start_with=start_with)\n",
        "        suggestions.append(suggestion)\n",
        "    return suggestions"
      ]
    },
    {
      "cell_type": "code",
      "execution_count": null,
      "metadata": {
        "id": "9YsMVuhsPJGx",
        "outputId": "b96d3ea2-6343-409b-bdf2-5648eb5bbfeb"
      },
      "outputs": [
        {
          "name": "stdout",
          "output_type": "stream",
          "text": [
            "The previous words are 'i like', the suggestions are:\n"
          ]
        },
        {
          "data": {
            "text/plain": [
              "[('a', 0.2727272727272727),\n",
              " ('a', 0.2),\n",
              " ('cat', 0.1111111111111111),\n",
              " ('cat', 0.1111111111111111)]"
            ]
          },
          "metadata": {},
          "output_type": "display_data"
        }
      ],
      "source": [
        "# test your code\n",
        "sentences = [['i', 'like', 'a', 'cat'],\n",
        "             ['this', 'dog', 'is', 'like', 'a', 'cat']]\n",
        "unique_words = list(set(sentences[0] + sentences[1]))\n",
        "\n",
        "unigram_counts = count_n_grams(sentences, 1)\n",
        "bigram_counts = count_n_grams(sentences, 2)\n",
        "trigram_counts = count_n_grams(sentences, 3)\n",
        "quadgram_counts = count_n_grams(sentences, 4)\n",
        "qintgram_counts = count_n_grams(sentences, 5)\n",
        "\n",
        "n_gram_counts_list = [unigram_counts, bigram_counts, trigram_counts, quadgram_counts, qintgram_counts]\n",
        "previous_tokens = [\"i\", \"like\"]\n",
        "tmp_suggest3 = get_suggestions(previous_tokens, n_gram_counts_list, unique_words, k=1.0)\n",
        "\n",
        "print(f\"The previous words are 'i like', the suggestions are:\")\n",
        "display(tmp_suggest3)"
      ]
    },
    {
      "cell_type": "markdown",
      "metadata": {
        "id": "ovfXxHevPJGx"
      },
      "source": [
        "### Suggest multiple words using n-grams of varying length"
      ]
    },
    {
      "cell_type": "code",
      "execution_count": null,
      "metadata": {
        "id": "Be8PMa60PJGx",
        "outputId": "7da024c2-040e-446e-d2e6-21e876adcb92"
      },
      "outputs": [
        {
          "name": "stdout",
          "output_type": "stream",
          "text": [
            "Computing n-gram counts with n = 1 ...\n",
            "Computing n-gram counts with n = 2 ...\n",
            "Computing n-gram counts with n = 3 ...\n",
            "Computing n-gram counts with n = 4 ...\n",
            "Computing n-gram counts with n = 5 ...\n"
          ]
        }
      ],
      "source": [
        "n_gram_counts_list = []\n",
        "for n in range(1, 6):\n",
        "    print(\"Computing n-gram counts with n =\", n, \"...\")\n",
        "    n_model_counts = count_n_grams(train_data_processed, n)\n",
        "    n_gram_counts_list.append(n_model_counts)"
      ]
    },
    {
      "cell_type": "code",
      "execution_count": null,
      "metadata": {
        "id": "8V1Mno8EPJGy",
        "outputId": "4faf0336-d0d8-410b-9d18-3add11870a3e"
      },
      "outputs": [
        {
          "name": "stdout",
          "output_type": "stream",
          "text": [
            "The previous words are ['i', 'am', 'to'], the suggestions are:\n"
          ]
        },
        {
          "data": {
            "text/plain": [
              "[('be', 0.027665685098338604),\n",
              " ('have', 0.00013487086115044844),\n",
              " ('have', 0.00013490725126475548),\n",
              " ('i', 6.746272684341901e-05)]"
            ]
          },
          "metadata": {},
          "output_type": "display_data"
        }
      ],
      "source": [
        "previous_tokens = [\"i\", \"am\", \"to\"]\n",
        "tmp_suggest4 = get_suggestions(previous_tokens, n_gram_counts_list, vocabulary, k=1.0)\n",
        "\n",
        "print(f\"The previous words are {previous_tokens}, the suggestions are:\")\n",
        "display(tmp_suggest4)"
      ]
    },
    {
      "cell_type": "code",
      "execution_count": null,
      "metadata": {
        "id": "GyX7zFOdPJGy",
        "outputId": "c8338c8d-ab8f-4fd3-ef7b-594aa4103aca"
      },
      "outputs": [
        {
          "name": "stdout",
          "output_type": "stream",
          "text": [
            "The previous words are ['i', 'want', 'to', 'go'], the suggestions are:\n"
          ]
        },
        {
          "data": {
            "text/plain": [
              "[('to', 0.014051961029228078),\n",
              " ('to', 0.004697942168993581),\n",
              " ('to', 0.0009424436216762033),\n",
              " ('to', 0.0004044489383215369)]"
            ]
          },
          "metadata": {},
          "output_type": "display_data"
        }
      ],
      "source": [
        "previous_tokens = [\"i\", \"want\", \"to\", \"go\"]\n",
        "tmp_suggest5 = get_suggestions(previous_tokens, n_gram_counts_list, vocabulary, k=1.0)\n",
        "\n",
        "print(f\"The previous words are {previous_tokens}, the suggestions are:\")\n",
        "display(tmp_suggest5)"
      ]
    },
    {
      "cell_type": "code",
      "execution_count": null,
      "metadata": {
        "id": "i8j0Wi3vPJGy",
        "outputId": "531edaa2-cde3-4dde-bfb3-49b58e51ecbb"
      },
      "outputs": [
        {
          "name": "stdout",
          "output_type": "stream",
          "text": [
            "The previous words are ['hey', 'how', 'are'], the suggestions are:\n"
          ]
        },
        {
          "data": {
            "text/plain": [
              "[('you', 0.023426812585499317),\n",
              " ('you', 0.003559435862995299),\n",
              " ('you', 0.00013491635186184566),\n",
              " ('i', 6.746272684341901e-05)]"
            ]
          },
          "metadata": {},
          "output_type": "display_data"
        }
      ],
      "source": [
        "previous_tokens = [\"hey\", \"how\", \"are\"]\n",
        "tmp_suggest6 = get_suggestions(previous_tokens, n_gram_counts_list, vocabulary, k=1.0)\n",
        "\n",
        "print(f\"The previous words are {previous_tokens}, the suggestions are:\")\n",
        "display(tmp_suggest6)"
      ]
    },
    {
      "cell_type": "code",
      "execution_count": null,
      "metadata": {
        "id": "6EAtXINdPJGy",
        "outputId": "7bf12f5f-22d0-4c03-e691-c9fc343c68fb"
      },
      "outputs": [
        {
          "name": "stdout",
          "output_type": "stream",
          "text": [
            "The previous words are ['hey', 'how', 'are', 'you'], the suggestions are:\n"
          ]
        },
        {
          "data": {
            "text/plain": [
              "[(\"'re\", 0.023973994311255586),\n",
              " ('?', 0.002888465830762161),\n",
              " ('?', 0.0016134453781512605),\n",
              " ('<e>', 0.00013491635186184566)]"
            ]
          },
          "metadata": {},
          "output_type": "display_data"
        }
      ],
      "source": [
        "previous_tokens = [\"hey\", \"how\", \"are\", \"you\"]\n",
        "tmp_suggest7 = get_suggestions(previous_tokens, n_gram_counts_list, vocabulary, k=1.0)\n",
        "\n",
        "print(f\"The previous words are {previous_tokens}, the suggestions are:\")\n",
        "display(tmp_suggest7)"
      ]
    },
    {
      "cell_type": "code",
      "execution_count": null,
      "metadata": {
        "id": "944U14aUPJGy",
        "outputId": "443dd9c3-3820-430e-b4ba-8151afe29995"
      },
      "outputs": [
        {
          "name": "stdout",
          "output_type": "stream",
          "text": [
            "The previous words are ['hey', 'how', 'are', 'you'], the suggestions are:\n"
          ]
        },
        {
          "data": {
            "text/plain": [
              "[('do', 0.009020723283218204),\n",
              " ('doing', 0.0016411737674785006),\n",
              " ('doing', 0.00047058823529411766),\n",
              " ('dvd', 6.745817593092283e-05)]"
            ]
          },
          "metadata": {},
          "output_type": "display_data"
        }
      ],
      "source": [
        "previous_tokens = [\"hey\", \"how\", \"are\", \"you\"]\n",
        "tmp_suggest8 = get_suggestions(previous_tokens, n_gram_counts_list, vocabulary, k=1.0, start_with=\"d\")\n",
        "\n",
        "print(f\"The previous words are {previous_tokens}, the suggestions are:\")\n",
        "display(tmp_suggest8)"
      ]
    }
  ],
  "metadata": {
    "coursera": {
      "schema_names": [
        "NLPC2-3"
      ]
    },
    "kernelspec": {
      "display_name": "Python 3",
      "language": "python",
      "name": "python3"
    },
    "language_info": {
      "codemirror_mode": {
        "name": "ipython",
        "version": 3
      },
      "file_extension": ".py",
      "mimetype": "text/x-python",
      "name": "python",
      "nbconvert_exporter": "python",
      "pygments_lexer": "ipython3",
      "version": "3.7.1"
    },
    "colab": {
      "provenance": []
    }
  },
  "nbformat": 4,
  "nbformat_minor": 0
}